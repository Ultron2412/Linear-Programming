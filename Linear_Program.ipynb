{
 "cells": [
  {
   "cell_type": "markdown",
   "metadata": {},
   "source": [
    "# Linear Programming with Python\n",
    "\n",
    "\n",
    "## What is Linear Programming?\n",
    "Linear Programming, also sometimes called linear optimisation, involves maximising or minimising a linear objective function to achive the best outcome in a mathematical model subject to a set of linear inequality or equality constraints."
   ]
  },
  {
   "cell_type": "markdown",
   "metadata": {},
   "source": [
    "#### Example of a linear programming problem\n",
    "A car company produces 2 models, model A and model B. Long-term projections indicate an expected demand of at least 100 model A cars and 80 model B cars each day. Because of limitations on production capacity, no more than 200 model A cars and 170 model B cars can be made daily. To satisfy a shipping contract, a total of at least 200 cars much be shipped each day. If each model A car sold results in a \\$2000 loss, but each model B car produces a \\$5000 profit, how many of each type should be made daily to maximize net profits?\n",
    "\n"
   ]
  },
  {
   "cell_type": "markdown",
   "metadata": {},
   "source": [
    "### Formulating the above problem\n",
    "\n",
    "So , Let us assume the number of model A sold daily be 'x' and model B is 'y' .\n",
    "\n",
    "Daily Profit, z =  (5000*y - 2000*x) and our objective is to maximize z .\n",
    "\n",
    "We have the following constraints:\n",
    "\n",
    "*To satisfy Expected Demand:\n",
    "    \n",
    "$x\\geq100$\n",
    "\n",
    "$y\\geq80$\n",
    "\n",
    "*Limitations in production capacity:\n",
    "\n",
    "$x\\leq200$\n",
    "\n",
    "$y\\leq170$\n",
    "\n",
    "*Shipping contract limitations :\n",
    "\n",
    "$x+y\\geq200$\n",
    "\n",
    "Profit maximization : $ z = (5000*y - 2000*x) $"
   ]
  },
  {
   "cell_type": "markdown",
   "metadata": {},
   "source": [
    "### Basic terminologies used in Linear Programming\n",
    "\n",
    "1.Decision Variables: The variables on which the final output depends are decision variables.For the above example, the total number of units for A and B denoted by x & y respectively are my decision variables.\n",
    "\n",
    "2.Objective Function: It is defined as the objective of making decisions. In the above example, the company wishes to increase the total profit represented by Z.\n",
    "\n",
    "3.Constraints: Therse are those restrictions which limit the value of decision variables.In the above example, the limit on the production capacity, demands, conditions of the contract are such constraints.\n",
    "\n",
    "4.Non-negativity restriction: For all linear programs, the decision variables should always take non-negative values. Which means the values for decision variables should be greater than or equal to 0.\n",
    "\n",
    "### Solving above problem by Graphical Method"
   ]
  },
  {
   "cell_type": "code",
   "execution_count": 114,
   "metadata": {},
   "outputs": [
    {
     "data": {
      "text/plain": [
       "<matplotlib.legend.Legend at 0x7f47cadd14e0>"
      ]
     },
     "execution_count": 114,
     "metadata": {},
     "output_type": "execute_result"
    },
    {
     "data": {
      "image/png": "[encoded data removed]",
      "text/plain": [
       "<matplotlib.figure.Figure at 0x7f47cb1c2f60>"
      ]
     },
     "metadata": {},
     "output_type": "display_data"
    }
   ],
   "source": [
    "import numpy as np\n",
    "import matplotlib.pyplot as plt\n",
    "%matplotlib inline\n",
    "\n",
    "# Construct lines\n",
    "x = np.linspace(0, 200, 20000)\n",
    "y = np.linspace(0, 200, 20000)\n",
    "# y >= 80\n",
    "y1 = (x*0) + 80\n",
    "# y >= 200 - x\n",
    "y2 = 200-x\n",
    "# x >= 100 \n",
    "x1 = (0*y) + 100\n",
    "# x <= 200 \n",
    "x2 = (0*y) + 200\n",
    "# y <= 170 \n",
    "y3 = (0*x) +170\n",
    "\n",
    "# Make plot\n",
    "plt.plot(x, y1, label=r'$y\\geq80$')\n",
    "plt.plot(x, y2, label=r'$y\\geq200-x$')\n",
    "plt.plot(x1, y, label=r'$x\\geq100$')\n",
    "plt.plot(x2, y, label=r'$x\\leq200$')\n",
    "plt.plot(x, y3, label=r'$y\\leq170$')\n",
    "plt.xlim((100, 200))\n",
    "plt.ylim((75, 170))\n",
    "plt.xlabel(r'$x$')\n",
    "plt.ylabel(r'$y$')\n",
    "\n",
    "# Fill feasible region\n",
    "y4 = np.maximum(y1, y2)\n",
    "plt.fill_between(x, y3, y4, where=y3>y4, color='grey', alpha=0.3)\n",
    "plt.legend(bbox_to_anchor=(1.05, 1), loc=2, borderaxespad=0.3)"
   ]
  },
  {
   "cell_type": "markdown",
   "metadata": {},
   "source": [
    "Our solution lies somewhere in the grey feasible region in the graph above.\n",
    "\n",
    "It has been proven that the minima and maxima of linear programming problems lie at the vertices of the feasible region. In this example, there are only 5 corners to our feasible region, so we can find the solutions for each corner to find our maximum.\n",
    "\n",
    "The five corresponding corners and respective Z are :"
   ]
  },
  {
   "cell_type": "markdown",
   "metadata": {},
   "source": [
    "|# model of A(x)|# model of A(x)| Profit(z)|\n",
    "| ------------- |:-------------:| -----:|   \n",
    "| 100 | 80  | $200000 |\n",
    "| 100 | 170 | \\$650000 |\n",
    "| 120 | 80  | \\$160000 |\n",
    "| 200 | 80  | \\$0      |\n",
    "| 200 | 170 | \\$45000  |"
   ]
  },
  {
   "cell_type": "markdown",
   "metadata": {},
   "source": [
    "We have successfully calculated that the maximum value for Z is 650000, when x is 100 and y is 170.\n",
    "\n",
    "This method of testing every vertex is only feasible for a small number of variables and constraints. As the numbers of constraints and variables increase, it becomes far more difficult to graph these problems and work out all the vertices. For example, if there were a third variable:\n",
    "\n",
    "Z = Ax + By + Cz\n",
    "\n",
    "We would have to graph in three dimensions (x, y and z)."
   ]
  },
  {
   "cell_type": "markdown",
   "metadata": {},
   "source": [
    "### Solution  - (Approach 2 using PuLP)\n",
    "In this approach, I'll explain how to construct and solve the linear programming problem described in approach 1 using PuLP( it is an open source linear programming package for python).\n",
    "\n",
    "the brief of our linear programming problem:\n",
    "\n",
    "We want to find the maximum solution to the objective function:\n",
    "\n",
    "$z = 5000y - 2000x$\n",
    "\n",
    "Subject to the following constraints:\n",
    "\n",
    "$x\\geq100$\n",
    "\n",
    "$y\\geq80$\n",
    "\n",
    "$x\\leq200$\n",
    "\n",
    "$y\\leq170$\n",
    "\n",
    "$x+y\\geq200$\n",
    "\n"
   ]
  },
  {
   "cell_type": "code",
   "execution_count": 115,
   "metadata": {
    "collapsed": true
   },
   "outputs": [],
   "source": [
    "import pulp\n",
    "profit = pulp.LpProblem(\"Profit\", pulp.LpMaximize)\n",
    "x = pulp.LpVariable('x', lowBound=100, cat='Continuous')\n",
    "y = pulp.LpVariable('y', lowBound=80, cat='Continuous')\n",
    "\n",
    "# Objective function\n",
    "profit += 5000 * y - 2000 * x, \"Z\"\n",
    "\n",
    "# Constraints\n",
    "profit += y >= 200 - x\n",
    "profit += y <= 170\n",
    "profit += x <= 200"
   ]
  },
  {
   "cell_type": "code",
   "execution_count": 116,
   "metadata": {},
   "outputs": [
    {
     "data": {
      "text/plain": [
       "Profit:\n",
       "MAXIMIZE\n",
       "-2000*x + 5000*y + 0\n",
       "SUBJECT TO\n",
       "_C1: x + y >= 200\n",
       "\n",
       "_C2: y <= 170\n",
       "\n",
       "_C3: x <= 200\n",
       "\n",
       "VARIABLES\n",
       "100 <= x Continuous\n",
       "80 <= y Continuous"
      ]
     },
     "execution_count": 116,
     "metadata": {},
     "output_type": "execute_result"
    }
   ],
   "source": [
    "profit"
   ]
  },
  {
   "cell_type": "code",
   "execution_count": 117,
   "metadata": {},
   "outputs": [
    {
     "data": {
      "text/plain": [
       "'Optimal'"
      ]
     },
     "execution_count": 117,
     "metadata": {},
     "output_type": "execute_result"
    }
   ],
   "source": [
    "profit.solve()\n",
    "pulp.LpStatus[profit.status]"
   ]
  },
  {
   "cell_type": "code",
   "execution_count": 118,
   "metadata": {},
   "outputs": [
    {
     "name": "stdout",
     "output_type": "stream",
     "text": [
      "x 100.0\n",
      "y 170.0\n"
     ]
    }
   ],
   "source": [
    "for variable in profit.variables():\n",
    "    print (variable.name, variable.varValue)"
   ]
  },
  {
   "cell_type": "code",
   "execution_count": 119,
   "metadata": {},
   "outputs": [
    {
     "name": "stdout",
     "output_type": "stream",
     "text": [
      "-2000*x + 5000*y\n"
     ]
    }
   ],
   "source": [
    "print (profit.objective)"
   ]
  },
  {
   "cell_type": "code",
   "execution_count": 120,
   "metadata": {},
   "outputs": [
    {
     "name": "stdout",
     "output_type": "stream",
     "text": [
      "650000\n"
     ]
    }
   ],
   "source": [
    "print (-2000*100 + 5000*170)   # Maximum Profit made each day"
   ]
  }
 ],
 "metadata": {
  "kernelspec": {
   "display_name": "Python 3",
   "language": "python",
   "name": "python3"
  },
  "language_info": {
   "codemirror_mode": {
    "name": "ipython",
    "version": 3
   },
   "file_extension": ".py",
   "mimetype": "text/x-python",
   "name": "python",
   "nbconvert_exporter": "python",
   "pygments_lexer": "ipython3",
   "version": "3.6.1"
  }
 },
 "nbformat": 4,
 "nbformat_minor": 2
}
